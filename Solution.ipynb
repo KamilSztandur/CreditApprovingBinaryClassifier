{
 "cells": [
  {
   "cell_type": "markdown",
   "metadata": {},
   "source": [
    "# PRiAD - Projekt zespołowy \"Klasyfikacja wniosków kredytowych\""
   ]
  },
  {
   "cell_type": "markdown",
   "metadata": {},
   "source": [
    "---"
   ]
  },
  {
   "cell_type": "code",
   "execution_count": 188,
   "metadata": {},
   "outputs": [],
   "source": [
    "# Import potrzebnych bibliotek\n",
    "import pandas as pd\n",
    "from sklearn.preprocessing import StandardScaler\n",
    "from sklearn.model_selection import train_test_split\n",
    "from sklearn.neighbors import KNeighborsClassifier\n",
    "from sklearn.metrics import accuracy_score\n",
    "\n",
    "# Zmiana sposobu wyświetlania danych zmiennoprzecinkowych\n",
    "pd.options.display.float_format = \"{:.2f}\".format "
   ]
  },
  {
   "cell_type": "code",
   "execution_count": 189,
   "metadata": {},
   "outputs": [],
   "source": [
    "# Przydatne funkcje\n",
    "\n",
    "def setProperColumnNames(data):\n",
    "    data = data.rename(\n",
    "        columns = {\n",
    "            0:'A1', 1:'A2', 2:'A3', 3:'A4', 4:'A5', 5:'A6', 6:'A7', 7:'A8', 8:'A9',\n",
    "            9:'A10', 10:'A11', 11:'A12', 12:'A13', 13:'A14', 14:'A15', 15:'A16'\n",
    "        }\n",
    "    )\n",
    "    \n",
    "    return data\n",
    "\n",
    "def getErrorMatrix(data, testResult):\n",
    "    return pd.crosstab(data['decisiveSetToTest'], testResult) \n",
    "\n",
    "\n",
    "def getTotalErrors(errorMatrix):\n",
    "    totalErrors = 0\n",
    "\n",
    "    # Errors above diagonal\n",
    "    for row in range(0, errorMatrix.shape[0]):\n",
    "        for column in range(row + 1, errorMatrix.shape[1]):\n",
    "            totalErrors += errorMatrix.iloc[row, column]\n",
    "\n",
    "    # Errors below diagonal\n",
    "    for column in range(0, errorMatrix.shape[1]):\n",
    "        for row in range(column + 1, errorMatrix.shape[0]):\n",
    "            totalErrors += errorMatrix.iloc[row, column]\n",
    "\n",
    "    return totalErrors\n"
   ]
  },
  {
   "cell_type": "code",
   "execution_count": 190,
   "metadata": {},
   "outputs": [
    {
     "output_type": "execute_result",
     "data": {
      "text/plain": [
       "    A1     A2    A3 A4 A5  A6  A7   A8 A9 A10  A11 A12 A13    A14  A15 A16\n",
       "0    b  30.83  0.00  u  g   w   v 1.25  t   t    1   f   g  00202    0   +\n",
       "1    a  58.67  4.46  u  g   q   h 3.04  t   t    6   f   g  00043  560   +\n",
       "2    a  24.50  0.50  u  g   q   h 1.50  t   f    0   f   g  00280  824   +\n",
       "3    b  27.83  1.54  u  g   w   v 3.75  t   t    5   t   g  00100    3   +\n",
       "4    b  20.17  5.62  u  g   w   v 1.71  t   f    0   f   s  00120    0   +\n",
       "..  ..    ...   ... .. ..  ..  ..  ... ..  ..  ...  ..  ..    ...  ...  ..\n",
       "685  b  21.08 10.09  y  p   e   h 1.25  f   f    0   f   g  00260    0   -\n",
       "686  a  22.67  0.75  u  g   c   v 2.00  f   t    2   t   g  00200  394   -\n",
       "687  a  25.25 13.50  y  p  ff  ff 2.00  f   t    1   t   g  00200    1   -\n",
       "688  b  17.92  0.20  u  g  aa   v 0.04  f   f    0   f   g  00280  750   -\n",
       "689  b  35.00  3.38  u  g   c   h 8.29  f   f    0   t   g  00000    0   -\n",
       "\n",
       "[653 rows x 16 columns]"
      ],
      "text/html": "<div>\n<style scoped>\n    .dataframe tbody tr th:only-of-type {\n        vertical-align: middle;\n    }\n\n    .dataframe tbody tr th {\n        vertical-align: top;\n    }\n\n    .dataframe thead th {\n        text-align: right;\n    }\n</style>\n<table border=\"1\" class=\"dataframe\">\n  <thead>\n    <tr style=\"text-align: right;\">\n      <th></th>\n      <th>A1</th>\n      <th>A2</th>\n      <th>A3</th>\n      <th>A4</th>\n      <th>A5</th>\n      <th>A6</th>\n      <th>A7</th>\n      <th>A8</th>\n      <th>A9</th>\n      <th>A10</th>\n      <th>A11</th>\n      <th>A12</th>\n      <th>A13</th>\n      <th>A14</th>\n      <th>A15</th>\n      <th>A16</th>\n    </tr>\n  </thead>\n  <tbody>\n    <tr>\n      <th>0</th>\n      <td>b</td>\n      <td>30.83</td>\n      <td>0.00</td>\n      <td>u</td>\n      <td>g</td>\n      <td>w</td>\n      <td>v</td>\n      <td>1.25</td>\n      <td>t</td>\n      <td>t</td>\n      <td>1</td>\n      <td>f</td>\n      <td>g</td>\n      <td>00202</td>\n      <td>0</td>\n      <td>+</td>\n    </tr>\n    <tr>\n      <th>1</th>\n      <td>a</td>\n      <td>58.67</td>\n      <td>4.46</td>\n      <td>u</td>\n      <td>g</td>\n      <td>q</td>\n      <td>h</td>\n      <td>3.04</td>\n      <td>t</td>\n      <td>t</td>\n      <td>6</td>\n      <td>f</td>\n      <td>g</td>\n      <td>00043</td>\n      <td>560</td>\n      <td>+</td>\n    </tr>\n    <tr>\n      <th>2</th>\n      <td>a</td>\n      <td>24.50</td>\n      <td>0.50</td>\n      <td>u</td>\n      <td>g</td>\n      <td>q</td>\n      <td>h</td>\n      <td>1.50</td>\n      <td>t</td>\n      <td>f</td>\n      <td>0</td>\n      <td>f</td>\n      <td>g</td>\n      <td>00280</td>\n      <td>824</td>\n      <td>+</td>\n    </tr>\n    <tr>\n      <th>3</th>\n      <td>b</td>\n      <td>27.83</td>\n      <td>1.54</td>\n      <td>u</td>\n      <td>g</td>\n      <td>w</td>\n      <td>v</td>\n      <td>3.75</td>\n      <td>t</td>\n      <td>t</td>\n      <td>5</td>\n      <td>t</td>\n      <td>g</td>\n      <td>00100</td>\n      <td>3</td>\n      <td>+</td>\n    </tr>\n    <tr>\n      <th>4</th>\n      <td>b</td>\n      <td>20.17</td>\n      <td>5.62</td>\n      <td>u</td>\n      <td>g</td>\n      <td>w</td>\n      <td>v</td>\n      <td>1.71</td>\n      <td>t</td>\n      <td>f</td>\n      <td>0</td>\n      <td>f</td>\n      <td>s</td>\n      <td>00120</td>\n      <td>0</td>\n      <td>+</td>\n    </tr>\n    <tr>\n      <th>...</th>\n      <td>...</td>\n      <td>...</td>\n      <td>...</td>\n      <td>...</td>\n      <td>...</td>\n      <td>...</td>\n      <td>...</td>\n      <td>...</td>\n      <td>...</td>\n      <td>...</td>\n      <td>...</td>\n      <td>...</td>\n      <td>...</td>\n      <td>...</td>\n      <td>...</td>\n      <td>...</td>\n    </tr>\n    <tr>\n      <th>685</th>\n      <td>b</td>\n      <td>21.08</td>\n      <td>10.09</td>\n      <td>y</td>\n      <td>p</td>\n      <td>e</td>\n      <td>h</td>\n      <td>1.25</td>\n      <td>f</td>\n      <td>f</td>\n      <td>0</td>\n      <td>f</td>\n      <td>g</td>\n      <td>00260</td>\n      <td>0</td>\n      <td>-</td>\n    </tr>\n    <tr>\n      <th>686</th>\n      <td>a</td>\n      <td>22.67</td>\n      <td>0.75</td>\n      <td>u</td>\n      <td>g</td>\n      <td>c</td>\n      <td>v</td>\n      <td>2.00</td>\n      <td>f</td>\n      <td>t</td>\n      <td>2</td>\n      <td>t</td>\n      <td>g</td>\n      <td>00200</td>\n      <td>394</td>\n      <td>-</td>\n    </tr>\n    <tr>\n      <th>687</th>\n      <td>a</td>\n      <td>25.25</td>\n      <td>13.50</td>\n      <td>y</td>\n      <td>p</td>\n      <td>ff</td>\n      <td>ff</td>\n      <td>2.00</td>\n      <td>f</td>\n      <td>t</td>\n      <td>1</td>\n      <td>t</td>\n      <td>g</td>\n      <td>00200</td>\n      <td>1</td>\n      <td>-</td>\n    </tr>\n    <tr>\n      <th>688</th>\n      <td>b</td>\n      <td>17.92</td>\n      <td>0.20</td>\n      <td>u</td>\n      <td>g</td>\n      <td>aa</td>\n      <td>v</td>\n      <td>0.04</td>\n      <td>f</td>\n      <td>f</td>\n      <td>0</td>\n      <td>f</td>\n      <td>g</td>\n      <td>00280</td>\n      <td>750</td>\n      <td>-</td>\n    </tr>\n    <tr>\n      <th>689</th>\n      <td>b</td>\n      <td>35.00</td>\n      <td>3.38</td>\n      <td>u</td>\n      <td>g</td>\n      <td>c</td>\n      <td>h</td>\n      <td>8.29</td>\n      <td>f</td>\n      <td>f</td>\n      <td>0</td>\n      <td>t</td>\n      <td>g</td>\n      <td>00000</td>\n      <td>0</td>\n      <td>-</td>\n    </tr>\n  </tbody>\n</table>\n<p>653 rows × 16 columns</p>\n</div>"
     },
     "metadata": {},
     "execution_count": 190
    }
   ],
   "source": [
    "# Wczytanie i przygotowanie ramki danych do pracy\n",
    "\n",
    "# Konwersja .data --> .csv do typu Data Frame\n",
    "data = pd.read_csv('crx.data', header = None, sep = ',')\n",
    "data = data.dropna()\n",
    "data = setProperColumnNames(data)\n",
    "\n",
    "# Porzucenie wierszy z podziurawionymi danymi\n",
    "for column in data.columns:\n",
    "    data = data[data[column] != '?']\n",
    "\n",
    "data"
   ]
  },
  {
   "cell_type": "code",
   "execution_count": 191,
   "metadata": {},
   "outputs": [
    {
     "output_type": "execute_result",
     "data": {
      "text/plain": [
       "     A1     A2    A3  A4  A5  A6  A7   A8  A9  A10  A11  A12  A13    A14  A15  \\\n",
       "0     1  30.83  0.00   1   0  12   7 1.25   1    1    1    0    0  00202    0   \n",
       "1     0  58.67  4.46   1   0  10   3 3.04   1    1    6    0    0  00043  560   \n",
       "2     0  24.50  0.50   1   0  10   3 1.50   1    0    0    0    0  00280  824   \n",
       "3     1  27.83  1.54   1   0  12   7 3.75   1    1    5    1    0  00100    3   \n",
       "4     1  20.17  5.62   1   0  12   7 1.71   1    0    0    0    2  00120    0   \n",
       "..   ..    ...   ...  ..  ..  ..  ..  ...  ..  ...  ...  ...  ...    ...  ...   \n",
       "685   1  21.08 10.09   2   2   4   3 1.25   0    0    0    0    0  00260    0   \n",
       "686   0  22.67  0.75   1   0   1   7 2.00   0    1    2    1    0  00200  394   \n",
       "687   0  25.25 13.50   2   2   5   2 2.00   0    1    1    1    0  00200    1   \n",
       "688   1  17.92  0.20   1   0   0   7 0.04   0    0    0    0    0  00280  750   \n",
       "689   1  35.00  3.38   1   0   1   3 8.29   0    0    0    1    0  00000    0   \n",
       "\n",
       "     A16  \n",
       "0      0  \n",
       "1      0  \n",
       "2      0  \n",
       "3      0  \n",
       "4      0  \n",
       "..   ...  \n",
       "685    1  \n",
       "686    1  \n",
       "687    1  \n",
       "688    1  \n",
       "689    1  \n",
       "\n",
       "[653 rows x 16 columns]"
      ],
      "text/html": "<div>\n<style scoped>\n    .dataframe tbody tr th:only-of-type {\n        vertical-align: middle;\n    }\n\n    .dataframe tbody tr th {\n        vertical-align: top;\n    }\n\n    .dataframe thead th {\n        text-align: right;\n    }\n</style>\n<table border=\"1\" class=\"dataframe\">\n  <thead>\n    <tr style=\"text-align: right;\">\n      <th></th>\n      <th>A1</th>\n      <th>A2</th>\n      <th>A3</th>\n      <th>A4</th>\n      <th>A5</th>\n      <th>A6</th>\n      <th>A7</th>\n      <th>A8</th>\n      <th>A9</th>\n      <th>A10</th>\n      <th>A11</th>\n      <th>A12</th>\n      <th>A13</th>\n      <th>A14</th>\n      <th>A15</th>\n      <th>A16</th>\n    </tr>\n  </thead>\n  <tbody>\n    <tr>\n      <th>0</th>\n      <td>1</td>\n      <td>30.83</td>\n      <td>0.00</td>\n      <td>1</td>\n      <td>0</td>\n      <td>12</td>\n      <td>7</td>\n      <td>1.25</td>\n      <td>1</td>\n      <td>1</td>\n      <td>1</td>\n      <td>0</td>\n      <td>0</td>\n      <td>00202</td>\n      <td>0</td>\n      <td>0</td>\n    </tr>\n    <tr>\n      <th>1</th>\n      <td>0</td>\n      <td>58.67</td>\n      <td>4.46</td>\n      <td>1</td>\n      <td>0</td>\n      <td>10</td>\n      <td>3</td>\n      <td>3.04</td>\n      <td>1</td>\n      <td>1</td>\n      <td>6</td>\n      <td>0</td>\n      <td>0</td>\n      <td>00043</td>\n      <td>560</td>\n      <td>0</td>\n    </tr>\n    <tr>\n      <th>2</th>\n      <td>0</td>\n      <td>24.50</td>\n      <td>0.50</td>\n      <td>1</td>\n      <td>0</td>\n      <td>10</td>\n      <td>3</td>\n      <td>1.50</td>\n      <td>1</td>\n      <td>0</td>\n      <td>0</td>\n      <td>0</td>\n      <td>0</td>\n      <td>00280</td>\n      <td>824</td>\n      <td>0</td>\n    </tr>\n    <tr>\n      <th>3</th>\n      <td>1</td>\n      <td>27.83</td>\n      <td>1.54</td>\n      <td>1</td>\n      <td>0</td>\n      <td>12</td>\n      <td>7</td>\n      <td>3.75</td>\n      <td>1</td>\n      <td>1</td>\n      <td>5</td>\n      <td>1</td>\n      <td>0</td>\n      <td>00100</td>\n      <td>3</td>\n      <td>0</td>\n    </tr>\n    <tr>\n      <th>4</th>\n      <td>1</td>\n      <td>20.17</td>\n      <td>5.62</td>\n      <td>1</td>\n      <td>0</td>\n      <td>12</td>\n      <td>7</td>\n      <td>1.71</td>\n      <td>1</td>\n      <td>0</td>\n      <td>0</td>\n      <td>0</td>\n      <td>2</td>\n      <td>00120</td>\n      <td>0</td>\n      <td>0</td>\n    </tr>\n    <tr>\n      <th>...</th>\n      <td>...</td>\n      <td>...</td>\n      <td>...</td>\n      <td>...</td>\n      <td>...</td>\n      <td>...</td>\n      <td>...</td>\n      <td>...</td>\n      <td>...</td>\n      <td>...</td>\n      <td>...</td>\n      <td>...</td>\n      <td>...</td>\n      <td>...</td>\n      <td>...</td>\n      <td>...</td>\n    </tr>\n    <tr>\n      <th>685</th>\n      <td>1</td>\n      <td>21.08</td>\n      <td>10.09</td>\n      <td>2</td>\n      <td>2</td>\n      <td>4</td>\n      <td>3</td>\n      <td>1.25</td>\n      <td>0</td>\n      <td>0</td>\n      <td>0</td>\n      <td>0</td>\n      <td>0</td>\n      <td>00260</td>\n      <td>0</td>\n      <td>1</td>\n    </tr>\n    <tr>\n      <th>686</th>\n      <td>0</td>\n      <td>22.67</td>\n      <td>0.75</td>\n      <td>1</td>\n      <td>0</td>\n      <td>1</td>\n      <td>7</td>\n      <td>2.00</td>\n      <td>0</td>\n      <td>1</td>\n      <td>2</td>\n      <td>1</td>\n      <td>0</td>\n      <td>00200</td>\n      <td>394</td>\n      <td>1</td>\n    </tr>\n    <tr>\n      <th>687</th>\n      <td>0</td>\n      <td>25.25</td>\n      <td>13.50</td>\n      <td>2</td>\n      <td>2</td>\n      <td>5</td>\n      <td>2</td>\n      <td>2.00</td>\n      <td>0</td>\n      <td>1</td>\n      <td>1</td>\n      <td>1</td>\n      <td>0</td>\n      <td>00200</td>\n      <td>1</td>\n      <td>1</td>\n    </tr>\n    <tr>\n      <th>688</th>\n      <td>1</td>\n      <td>17.92</td>\n      <td>0.20</td>\n      <td>1</td>\n      <td>0</td>\n      <td>0</td>\n      <td>7</td>\n      <td>0.04</td>\n      <td>0</td>\n      <td>0</td>\n      <td>0</td>\n      <td>0</td>\n      <td>0</td>\n      <td>00280</td>\n      <td>750</td>\n      <td>1</td>\n    </tr>\n    <tr>\n      <th>689</th>\n      <td>1</td>\n      <td>35.00</td>\n      <td>3.38</td>\n      <td>1</td>\n      <td>0</td>\n      <td>1</td>\n      <td>3</td>\n      <td>8.29</td>\n      <td>0</td>\n      <td>0</td>\n      <td>0</td>\n      <td>1</td>\n      <td>0</td>\n      <td>00000</td>\n      <td>0</td>\n      <td>1</td>\n    </tr>\n  </tbody>\n</table>\n<p>653 rows × 16 columns</p>\n</div>"
     },
     "metadata": {},
     "execution_count": 191
    }
   ],
   "source": [
    "# Zakodowanie danych\n",
    "columnsToEncodeIndexes = [1, 4, 5, 6, 7, 9, 10, 12, 13, 16]\n",
    "for index in columnsToEncodeIndexes:\n",
    "    data['A' + str(index)] = data['A' + str(index)].astype('category').cat.codes\n",
    "\n",
    "data"
   ]
  },
  {
   "cell_type": "code",
   "execution_count": 192,
   "metadata": {},
   "outputs": [
    {
     "output_type": "execute_result",
     "data": {
      "text/plain": [
       "       A1    A2    A3    A4    A5    A6    A7    A8    A9   A10   A11   A12  \\\n",
       "0    0.67 -0.06 -0.96 -0.54 -0.55  1.45  0.77 -0.30  0.93  1.13 -0.30 -0.93   \n",
       "1   -1.49  2.30 -0.07 -0.54 -0.55  0.98 -0.84  0.24  0.93  1.13  0.70 -0.93   \n",
       "2   -1.49 -0.59 -0.86 -0.54 -0.55  0.98 -0.84 -0.22  0.93 -0.89 -0.50 -0.93   \n",
       "3    0.67 -0.31 -0.65 -0.54 -0.55  1.45  0.77  0.45  0.93  1.13  0.50  1.08   \n",
       "4    0.67 -0.96  0.16 -0.54 -0.55  1.45  0.77 -0.16  0.93 -0.89 -0.50 -0.93   \n",
       "..    ...   ...   ...   ...   ...   ...   ...   ...   ...   ...   ...   ...   \n",
       "648  0.67 -0.88  1.05  1.80  1.81 -0.41 -0.84 -0.30 -1.07 -0.89 -0.50 -0.93   \n",
       "649 -1.49 -0.75 -0.81 -0.54 -0.55 -1.11  0.77 -0.07 -1.07  1.13 -0.10  1.08   \n",
       "650 -1.49 -0.53  1.73  1.80  1.81 -0.18 -1.24 -0.07 -1.07  1.13 -0.30  1.08   \n",
       "651  0.67 -1.15 -0.92 -0.54 -0.55 -1.34  0.77 -0.65 -1.07 -0.89 -0.50 -0.93   \n",
       "652  0.67  0.30 -0.29 -0.54 -0.55 -1.11 -0.84  1.79 -1.07 -0.89 -0.50  1.08   \n",
       "\n",
       "      A13   A14   A15   A16  \n",
       "0   -0.30  0.13 -0.19 -1.10  \n",
       "1   -0.30 -0.82 -0.09 -1.10  \n",
       "2   -0.30  0.59 -0.04 -1.10  \n",
       "3   -0.30 -0.48 -0.19 -1.10  \n",
       "4    3.35 -0.36 -0.19 -1.10  \n",
       "..    ...   ...   ...   ...  \n",
       "648 -0.30  0.47 -0.19  0.91  \n",
       "649 -0.30  0.12 -0.12  0.91  \n",
       "650 -0.30  0.12 -0.19  0.91  \n",
       "651 -0.30  0.59 -0.05  0.91  \n",
       "652 -0.30 -1.07 -0.19  0.91  \n",
       "\n",
       "[653 rows x 16 columns]"
      ],
      "text/html": "<div>\n<style scoped>\n    .dataframe tbody tr th:only-of-type {\n        vertical-align: middle;\n    }\n\n    .dataframe tbody tr th {\n        vertical-align: top;\n    }\n\n    .dataframe thead th {\n        text-align: right;\n    }\n</style>\n<table border=\"1\" class=\"dataframe\">\n  <thead>\n    <tr style=\"text-align: right;\">\n      <th></th>\n      <th>A1</th>\n      <th>A2</th>\n      <th>A3</th>\n      <th>A4</th>\n      <th>A5</th>\n      <th>A6</th>\n      <th>A7</th>\n      <th>A8</th>\n      <th>A9</th>\n      <th>A10</th>\n      <th>A11</th>\n      <th>A12</th>\n      <th>A13</th>\n      <th>A14</th>\n      <th>A15</th>\n      <th>A16</th>\n    </tr>\n  </thead>\n  <tbody>\n    <tr>\n      <th>0</th>\n      <td>0.67</td>\n      <td>-0.06</td>\n      <td>-0.96</td>\n      <td>-0.54</td>\n      <td>-0.55</td>\n      <td>1.45</td>\n      <td>0.77</td>\n      <td>-0.30</td>\n      <td>0.93</td>\n      <td>1.13</td>\n      <td>-0.30</td>\n      <td>-0.93</td>\n      <td>-0.30</td>\n      <td>0.13</td>\n      <td>-0.19</td>\n      <td>-1.10</td>\n    </tr>\n    <tr>\n      <th>1</th>\n      <td>-1.49</td>\n      <td>2.30</td>\n      <td>-0.07</td>\n      <td>-0.54</td>\n      <td>-0.55</td>\n      <td>0.98</td>\n      <td>-0.84</td>\n      <td>0.24</td>\n      <td>0.93</td>\n      <td>1.13</td>\n      <td>0.70</td>\n      <td>-0.93</td>\n      <td>-0.30</td>\n      <td>-0.82</td>\n      <td>-0.09</td>\n      <td>-1.10</td>\n    </tr>\n    <tr>\n      <th>2</th>\n      <td>-1.49</td>\n      <td>-0.59</td>\n      <td>-0.86</td>\n      <td>-0.54</td>\n      <td>-0.55</td>\n      <td>0.98</td>\n      <td>-0.84</td>\n      <td>-0.22</td>\n      <td>0.93</td>\n      <td>-0.89</td>\n      <td>-0.50</td>\n      <td>-0.93</td>\n      <td>-0.30</td>\n      <td>0.59</td>\n      <td>-0.04</td>\n      <td>-1.10</td>\n    </tr>\n    <tr>\n      <th>3</th>\n      <td>0.67</td>\n      <td>-0.31</td>\n      <td>-0.65</td>\n      <td>-0.54</td>\n      <td>-0.55</td>\n      <td>1.45</td>\n      <td>0.77</td>\n      <td>0.45</td>\n      <td>0.93</td>\n      <td>1.13</td>\n      <td>0.50</td>\n      <td>1.08</td>\n      <td>-0.30</td>\n      <td>-0.48</td>\n      <td>-0.19</td>\n      <td>-1.10</td>\n    </tr>\n    <tr>\n      <th>4</th>\n      <td>0.67</td>\n      <td>-0.96</td>\n      <td>0.16</td>\n      <td>-0.54</td>\n      <td>-0.55</td>\n      <td>1.45</td>\n      <td>0.77</td>\n      <td>-0.16</td>\n      <td>0.93</td>\n      <td>-0.89</td>\n      <td>-0.50</td>\n      <td>-0.93</td>\n      <td>3.35</td>\n      <td>-0.36</td>\n      <td>-0.19</td>\n      <td>-1.10</td>\n    </tr>\n    <tr>\n      <th>...</th>\n      <td>...</td>\n      <td>...</td>\n      <td>...</td>\n      <td>...</td>\n      <td>...</td>\n      <td>...</td>\n      <td>...</td>\n      <td>...</td>\n      <td>...</td>\n      <td>...</td>\n      <td>...</td>\n      <td>...</td>\n      <td>...</td>\n      <td>...</td>\n      <td>...</td>\n      <td>...</td>\n    </tr>\n    <tr>\n      <th>648</th>\n      <td>0.67</td>\n      <td>-0.88</td>\n      <td>1.05</td>\n      <td>1.80</td>\n      <td>1.81</td>\n      <td>-0.41</td>\n      <td>-0.84</td>\n      <td>-0.30</td>\n      <td>-1.07</td>\n      <td>-0.89</td>\n      <td>-0.50</td>\n      <td>-0.93</td>\n      <td>-0.30</td>\n      <td>0.47</td>\n      <td>-0.19</td>\n      <td>0.91</td>\n    </tr>\n    <tr>\n      <th>649</th>\n      <td>-1.49</td>\n      <td>-0.75</td>\n      <td>-0.81</td>\n      <td>-0.54</td>\n      <td>-0.55</td>\n      <td>-1.11</td>\n      <td>0.77</td>\n      <td>-0.07</td>\n      <td>-1.07</td>\n      <td>1.13</td>\n      <td>-0.10</td>\n      <td>1.08</td>\n      <td>-0.30</td>\n      <td>0.12</td>\n      <td>-0.12</td>\n      <td>0.91</td>\n    </tr>\n    <tr>\n      <th>650</th>\n      <td>-1.49</td>\n      <td>-0.53</td>\n      <td>1.73</td>\n      <td>1.80</td>\n      <td>1.81</td>\n      <td>-0.18</td>\n      <td>-1.24</td>\n      <td>-0.07</td>\n      <td>-1.07</td>\n      <td>1.13</td>\n      <td>-0.30</td>\n      <td>1.08</td>\n      <td>-0.30</td>\n      <td>0.12</td>\n      <td>-0.19</td>\n      <td>0.91</td>\n    </tr>\n    <tr>\n      <th>651</th>\n      <td>0.67</td>\n      <td>-1.15</td>\n      <td>-0.92</td>\n      <td>-0.54</td>\n      <td>-0.55</td>\n      <td>-1.34</td>\n      <td>0.77</td>\n      <td>-0.65</td>\n      <td>-1.07</td>\n      <td>-0.89</td>\n      <td>-0.50</td>\n      <td>-0.93</td>\n      <td>-0.30</td>\n      <td>0.59</td>\n      <td>-0.05</td>\n      <td>0.91</td>\n    </tr>\n    <tr>\n      <th>652</th>\n      <td>0.67</td>\n      <td>0.30</td>\n      <td>-0.29</td>\n      <td>-0.54</td>\n      <td>-0.55</td>\n      <td>-1.11</td>\n      <td>-0.84</td>\n      <td>1.79</td>\n      <td>-1.07</td>\n      <td>-0.89</td>\n      <td>-0.50</td>\n      <td>1.08</td>\n      <td>-0.30</td>\n      <td>-1.07</td>\n      <td>-0.19</td>\n      <td>0.91</td>\n    </tr>\n  </tbody>\n</table>\n<p>653 rows × 16 columns</p>\n</div>"
     },
     "metadata": {},
     "execution_count": 192
    }
   ],
   "source": [
    "# Standaryzacja danych\n",
    "sc = StandardScaler()\n",
    "\n",
    "data = sc.fit_transform(data)\n",
    "data = pd.DataFrame(data)  \n",
    "data = setProperColumnNames(data)\n",
    "\n",
    "data"
   ]
  },
  {
   "cell_type": "code",
   "execution_count": 193,
   "metadata": {},
   "outputs": [],
   "source": [
    "# Podział na zbiór testowy i uczący\n",
    "proportion = 0.15\n",
    "\n",
    "descriptiveSetToTeach, descriptiveSetToTest, decisiveSetToTeach, decisiveSetToTest = train_test_split(\n",
    "    data.iloc[:,0:-1], \n",
    "    data.iloc[:,-1].astype('category').cat.codes, \n",
    "    test_size = proportion\n",
    ")\n",
    "\n",
    "dividedData = {\n",
    "    'descriptiveSetToTeach' : descriptiveSetToTeach, \n",
    "    'descriptiveSetToTest' : descriptiveSetToTest, \n",
    "    'decisiveSetToTeach' : decisiveSetToTeach, \n",
    "    'decisiveSetToTest' : decisiveSetToTest\n",
    "}\n"
   ]
  },
  {
   "cell_type": "code",
   "execution_count": 194,
   "metadata": {},
   "outputs": [],
   "source": [
    "# Zbudowanie klasyfikatora\n",
    "descAttributesIndexesRange = range(0, 15)\n",
    "\n",
    "classifier = KNeighborsClassifier(n_neighbors = 5)\n",
    "classifier.fit(\n",
    "    dividedData['descriptiveSetToTeach'].iloc[:, descAttributesIndexesRange], \n",
    "    dividedData['decisiveSetToTeach']\n",
    ")\n",
    "y_pred = classifier.predict(dividedData['descriptiveSetToTest'])\n"
   ]
  },
  {
   "cell_type": "code",
   "execution_count": 195,
   "metadata": {},
   "outputs": [],
   "source": [
    "# Wykonanie klasyfikacji\n",
    "testResult = classifier.predict(\n",
    "    dividedData['descriptiveSetToTest'].iloc[:, descAttributesIndexesRange]\n",
    ")\n"
   ]
  },
  {
   "cell_type": "code",
   "execution_count": 196,
   "metadata": {},
   "outputs": [
    {
     "output_type": "stream",
     "name": "stdout",
     "text": [
      "Mistakes matrix for test set (0 = '+', 1 = '-'):\ncol_0   0   1\nrow_0        \n0      42   7\n1       4  45\nNumber of mistakes: 11\nAccuracy:  0.8877551020408163\n"
     ]
    }
   ],
   "source": [
    "# Wyświetlenie wyniku pracy klasyfikatora\n",
    "testErrorMatrix = getErrorMatrix(dividedData, testResult)\n",
    "\n",
    "print('Mistakes matrix for test set (0 = \\'+\\', 1 = \\'-\\'):')\n",
    "print(testErrorMatrix)\n",
    "\n",
    "totalErrors = getTotalErrors(testErrorMatrix)\n",
    "print('Number of mistakes: %d' % totalErrors)\n",
    "\n",
    "accuracy = accuracy_score(dividedData['decisiveSetToTest'], y_pred)\n",
    "print('Accuracy: ', accuracy)\n"
   ]
  },
  {
   "cell_type": "code",
   "execution_count": 197,
   "metadata": {},
   "outputs": [],
   "source": [
    "# Histogramy wszystkich kolumn\n"
   ]
  }
 ],
 "metadata": {
  "anaconda-cloud": {},
  "kernelspec": {
   "display_name": "Python 3",
   "language": "python",
   "name": "python3"
  },
  "language_info": {
   "codemirror_mode": {
    "name": "ipython",
    "version": 3
   },
   "file_extension": ".py",
   "mimetype": "text/x-python",
   "name": "python",
   "nbconvert_exporter": "python",
   "pygments_lexer": "ipython3",
   "version": "3.8.5-final"
  }
 },
 "nbformat": 4,
 "nbformat_minor": 4
}