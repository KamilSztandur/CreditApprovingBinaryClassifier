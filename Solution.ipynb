{
 "cells": [
  {
   "cell_type": "markdown",
   "metadata": {},
   "source": [
    "# PRiAD - Projekt zespołowy \"Klasyfikacja wniosków kredytowych\""
   ]
  },
  {
   "cell_type": "markdown",
   "metadata": {},
   "source": [
    "---"
   ]
  },
  {
   "cell_type": "code",
   "execution_count": 1,
   "metadata": {},
   "outputs": [],
   "source": [
    "# Import potrzebnych bibliotek\n",
    "\n",
    "import numpy as np\n",
    "import pandas as pd\n",
    "import math\n",
    "import seaborn as sns\n",
    "import matplotlib.pyplot as plt\n",
    "import matplotlib.patches as pat\n",
    "from skimage import io\n",
    "import skimage as si\n",
    "import skimage.filters as sif\n",
    "import skimage.segmentation as sis\n",
    "import skimage.measure as sime\n",
    "import skimage.morphology as simo\n",
    "import skimage.color as sic\n",
    "\n",
    "from sklearn.preprocessing import StandardScaler\n",
    "from mpl_toolkits.mplot3d import Axes3D\n",
    "from matplotlib import cm\n",
    "from matplotlib import colors\n",
    "\n",
    "# Zmiana sposobu wyświetlania danych zmiennoprzecinkowych\n",
    "pd.options.display.float_format = \"{:.2f}\".format "
   ]
  },
  {
   "cell_type": "code",
   "execution_count": 2,
   "metadata": {},
   "outputs": [
    {
     "output_type": "execute_result",
     "data": {
      "text/plain": [
       "     b  30.83     0  u  g   w   v  1.25  t t.1  01  f g.1  00202  0.1  +\n",
       "0    a  58.67  4.46  u  g   q   h  3.04  t   t   6  f   g  00043  560  +\n",
       "1    a  24.50  0.50  u  g   q   h  1.50  t   f   0  f   g  00280  824  +\n",
       "2    b  27.83  1.54  u  g   w   v  3.75  t   t   5  t   g  00100    3  +\n",
       "3    b  20.17  5.62  u  g   w   v  1.71  t   f   0  f   s  00120    0  +\n",
       "4    b  32.08  4.00  u  g   m   v  2.50  t   f   0  t   g  00360    0  +\n",
       "..  ..    ...   ... .. ..  ..  ..   ... ..  ..  .. ..  ..    ...  ... ..\n",
       "684  b  21.08 10.09  y  p   e   h  1.25  f   f   0  f   g  00260    0  -\n",
       "685  a  22.67  0.75  u  g   c   v  2.00  f   t   2  t   g  00200  394  -\n",
       "686  a  25.25 13.50  y  p  ff  ff  2.00  f   t   1  t   g  00200    1  -\n",
       "687  b  17.92  0.20  u  g  aa   v  0.04  f   f   0  f   g  00280  750  -\n",
       "688  b  35.00  3.38  u  g   c   h  8.29  f   f   0  t   g  00000    0  -\n",
       "\n",
       "[689 rows x 16 columns]"
      ],
      "text/html": "<div>\n<style scoped>\n    .dataframe tbody tr th:only-of-type {\n        vertical-align: middle;\n    }\n\n    .dataframe tbody tr th {\n        vertical-align: top;\n    }\n\n    .dataframe thead th {\n        text-align: right;\n    }\n</style>\n<table border=\"1\" class=\"dataframe\">\n  <thead>\n    <tr style=\"text-align: right;\">\n      <th></th>\n      <th>b</th>\n      <th>30.83</th>\n      <th>0</th>\n      <th>u</th>\n      <th>g</th>\n      <th>w</th>\n      <th>v</th>\n      <th>1.25</th>\n      <th>t</th>\n      <th>t.1</th>\n      <th>01</th>\n      <th>f</th>\n      <th>g.1</th>\n      <th>00202</th>\n      <th>0.1</th>\n      <th>+</th>\n    </tr>\n  </thead>\n  <tbody>\n    <tr>\n      <th>0</th>\n      <td>a</td>\n      <td>58.67</td>\n      <td>4.46</td>\n      <td>u</td>\n      <td>g</td>\n      <td>q</td>\n      <td>h</td>\n      <td>3.04</td>\n      <td>t</td>\n      <td>t</td>\n      <td>6</td>\n      <td>f</td>\n      <td>g</td>\n      <td>00043</td>\n      <td>560</td>\n      <td>+</td>\n    </tr>\n    <tr>\n      <th>1</th>\n      <td>a</td>\n      <td>24.50</td>\n      <td>0.50</td>\n      <td>u</td>\n      <td>g</td>\n      <td>q</td>\n      <td>h</td>\n      <td>1.50</td>\n      <td>t</td>\n      <td>f</td>\n      <td>0</td>\n      <td>f</td>\n      <td>g</td>\n      <td>00280</td>\n      <td>824</td>\n      <td>+</td>\n    </tr>\n    <tr>\n      <th>2</th>\n      <td>b</td>\n      <td>27.83</td>\n      <td>1.54</td>\n      <td>u</td>\n      <td>g</td>\n      <td>w</td>\n      <td>v</td>\n      <td>3.75</td>\n      <td>t</td>\n      <td>t</td>\n      <td>5</td>\n      <td>t</td>\n      <td>g</td>\n      <td>00100</td>\n      <td>3</td>\n      <td>+</td>\n    </tr>\n    <tr>\n      <th>3</th>\n      <td>b</td>\n      <td>20.17</td>\n      <td>5.62</td>\n      <td>u</td>\n      <td>g</td>\n      <td>w</td>\n      <td>v</td>\n      <td>1.71</td>\n      <td>t</td>\n      <td>f</td>\n      <td>0</td>\n      <td>f</td>\n      <td>s</td>\n      <td>00120</td>\n      <td>0</td>\n      <td>+</td>\n    </tr>\n    <tr>\n      <th>4</th>\n      <td>b</td>\n      <td>32.08</td>\n      <td>4.00</td>\n      <td>u</td>\n      <td>g</td>\n      <td>m</td>\n      <td>v</td>\n      <td>2.50</td>\n      <td>t</td>\n      <td>f</td>\n      <td>0</td>\n      <td>t</td>\n      <td>g</td>\n      <td>00360</td>\n      <td>0</td>\n      <td>+</td>\n    </tr>\n    <tr>\n      <th>...</th>\n      <td>...</td>\n      <td>...</td>\n      <td>...</td>\n      <td>...</td>\n      <td>...</td>\n      <td>...</td>\n      <td>...</td>\n      <td>...</td>\n      <td>...</td>\n      <td>...</td>\n      <td>...</td>\n      <td>...</td>\n      <td>...</td>\n      <td>...</td>\n      <td>...</td>\n      <td>...</td>\n    </tr>\n    <tr>\n      <th>684</th>\n      <td>b</td>\n      <td>21.08</td>\n      <td>10.09</td>\n      <td>y</td>\n      <td>p</td>\n      <td>e</td>\n      <td>h</td>\n      <td>1.25</td>\n      <td>f</td>\n      <td>f</td>\n      <td>0</td>\n      <td>f</td>\n      <td>g</td>\n      <td>00260</td>\n      <td>0</td>\n      <td>-</td>\n    </tr>\n    <tr>\n      <th>685</th>\n      <td>a</td>\n      <td>22.67</td>\n      <td>0.75</td>\n      <td>u</td>\n      <td>g</td>\n      <td>c</td>\n      <td>v</td>\n      <td>2.00</td>\n      <td>f</td>\n      <td>t</td>\n      <td>2</td>\n      <td>t</td>\n      <td>g</td>\n      <td>00200</td>\n      <td>394</td>\n      <td>-</td>\n    </tr>\n    <tr>\n      <th>686</th>\n      <td>a</td>\n      <td>25.25</td>\n      <td>13.50</td>\n      <td>y</td>\n      <td>p</td>\n      <td>ff</td>\n      <td>ff</td>\n      <td>2.00</td>\n      <td>f</td>\n      <td>t</td>\n      <td>1</td>\n      <td>t</td>\n      <td>g</td>\n      <td>00200</td>\n      <td>1</td>\n      <td>-</td>\n    </tr>\n    <tr>\n      <th>687</th>\n      <td>b</td>\n      <td>17.92</td>\n      <td>0.20</td>\n      <td>u</td>\n      <td>g</td>\n      <td>aa</td>\n      <td>v</td>\n      <td>0.04</td>\n      <td>f</td>\n      <td>f</td>\n      <td>0</td>\n      <td>f</td>\n      <td>g</td>\n      <td>00280</td>\n      <td>750</td>\n      <td>-</td>\n    </tr>\n    <tr>\n      <th>688</th>\n      <td>b</td>\n      <td>35.00</td>\n      <td>3.38</td>\n      <td>u</td>\n      <td>g</td>\n      <td>c</td>\n      <td>h</td>\n      <td>8.29</td>\n      <td>f</td>\n      <td>f</td>\n      <td>0</td>\n      <td>t</td>\n      <td>g</td>\n      <td>00000</td>\n      <td>0</td>\n      <td>-</td>\n    </tr>\n  </tbody>\n</table>\n<p>689 rows × 16 columns</p>\n</div>"
     },
     "metadata": {},
     "execution_count": 2
    }
   ],
   "source": [
    "# Konwersja .data --> .csv do typu Data Frame\n",
    "\n",
    "data = pd.read_csv(\"crx.data\")\n",
    "data = data.dropna()\n",
    "\n",
    "data"
   ]
  },
  {
   "cell_type": "code",
   "execution_count": null,
   "metadata": {},
   "outputs": [],
   "source": [
    "# Zakodowanie danych\n",
    "\n",
    "\n"
   ]
  },
  {
   "cell_type": "code",
   "execution_count": null,
   "metadata": {},
   "outputs": [],
   "source": [
    "# Standaryzacja danych\n",
    "\n",
    "\n"
   ]
  },
  {
   "cell_type": "code",
   "execution_count": null,
   "metadata": {},
   "outputs": [],
   "source": [
    "# Budowa klasyfikatora\n",
    "\n",
    "\n"
   ]
  },
  {
   "cell_type": "code",
   "execution_count": null,
   "metadata": {},
   "outputs": [],
   "source": [
    "# Histogramy wszystkich kolumn\n",
    "\n",
    "\n"
   ]
  }
 ],
 "metadata": {
  "anaconda-cloud": {},
  "kernelspec": {
   "display_name": "Python 3",
   "language": "python",
   "name": "python3"
  },
  "language_info": {
   "codemirror_mode": {
    "name": "ipython",
    "version": 3
   },
   "file_extension": ".py",
   "mimetype": "text/x-python",
   "name": "python",
   "nbconvert_exporter": "python",
   "pygments_lexer": "ipython3",
   "version": "3.8.5-final"
  }
 },
 "nbformat": 4,
 "nbformat_minor": 4
}