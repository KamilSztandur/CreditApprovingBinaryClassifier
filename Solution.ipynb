{
 "cells": [
  {
   "cell_type": "markdown",
   "metadata": {},
   "source": [
    "# PRiAD - Projekt zespołowy \"Klasyfikacja wniosków kredytowych\""
   ]
  },
  {
   "cell_type": "markdown",
   "metadata": {},
   "source": [
    "---"
   ]
  },
  {
   "cell_type": "code",
   "execution_count": 144,
   "metadata": {},
   "outputs": [],
   "source": [
    "# Import potrzebnych bibliotek\n",
    "import numpy as np\n",
    "import pandas as pd\n",
    "import seaborn as sns\n",
    "import matplotlib.pyplot as plt\n",
    "from sklearn.preprocessing import StandardScaler\n",
    "from sklearn.model_selection import train_test_split\n",
    "from sklearn.neighbors import KNeighborsClassifier\n",
    "from sklearn.metrics import accuracy_score\n",
    "\n",
    "# Zmiana sposobu wyświetlania danych zmiennoprzecinkowych\n",
    "pd.options.display.float_format = \"{:.2f}\".format "
   ]
  },
  {
   "cell_type": "code",
   "execution_count": 145,
   "metadata": {},
   "outputs": [],
   "source": [
    "# Przydatne funkcje\n",
    "\n",
    "def setProperColumnNames(data):\n",
    "    data = data.rename(\n",
    "        columns = {\n",
    "            0:'A1', 1:'A2', 2:'A3', 3:'A4', 4:'A5', 5:'A6', 6:'A7', 7:'A8', 8:'A9',\n",
    "            9:'A10', 10:'A11', 11:'A12', 12:'A13', 13:'A14', 14:'A15', 15:'A16'\n",
    "        }\n",
    "    )\n",
    "    \n",
    "    return data\n",
    "\n",
    "def getErrorMatrix(data, testResult):\n",
    "    return pd.crosstab(data['decisiveSetToTest'], testResult) \n",
    "\n",
    "\n",
    "def getTotalErrors(errorMatrix):\n",
    "    totalErrors = 0\n",
    "\n",
    "    # Błędy nad diagonalą\n",
    "    for row in range(0, errorMatrix.shape[0]):\n",
    "        for column in range(row + 1, errorMatrix.shape[1]):\n",
    "            totalErrors += errorMatrix.iloc[row, column]\n",
    "\n",
    "    # Błędy pod diagonalą\n",
    "    for column in range(0, errorMatrix.shape[1]):\n",
    "        for row in range(column + 1, errorMatrix.shape[0]):\n",
    "            totalErrors += errorMatrix.iloc[row, column]\n",
    "\n",
    "    return totalErrors\n",
    "\n",
    "def testClassifier(classifier, relevantAttributes, data):\n",
    "    sum = 0\n",
    "    for i in range(10):\n",
    "        dividedData = divideData(data)\n",
    "        relevantTestResult = classifier.predict(\n",
    "            dividedData['descriptiveSetToTest'].iloc[:, relevantAttributes]\n",
    "        )\n",
    "        accuracy = accuracy_score(dividedData['decisiveSetToTest'], relevantTestResult)\n",
    "        sum += accuracy\n",
    "    \n",
    "    return sum/10"
   ]
  },
  {
   "source": [
    "# 1. Przygotowanie danych."
   ],
   "cell_type": "markdown",
   "metadata": {}
  },
  {
   "source": [
    "Wczytanie i przygotowanie ramki danych do pracy:"
   ],
   "cell_type": "markdown",
   "metadata": {}
  },
  {
   "cell_type": "code",
   "execution_count": 146,
   "metadata": {},
   "outputs": [
    {
     "output_type": "execute_result",
     "data": {
      "text/plain": [
       "    A1     A2    A3 A4 A5  A6  A7   A8 A9 A10  A11 A12 A13    A14  A15 A16\n",
       "0    b  30.83  0.00  u  g   w   v 1.25  t   t    1   f   g  00202    0   +\n",
       "1    a  58.67  4.46  u  g   q   h 3.04  t   t    6   f   g  00043  560   +\n",
       "2    a  24.50  0.50  u  g   q   h 1.50  t   f    0   f   g  00280  824   +\n",
       "3    b  27.83  1.54  u  g   w   v 3.75  t   t    5   t   g  00100    3   +\n",
       "4    b  20.17  5.62  u  g   w   v 1.71  t   f    0   f   s  00120    0   +\n",
       "..  ..    ...   ... .. ..  ..  ..  ... ..  ..  ...  ..  ..    ...  ...  ..\n",
       "685  b  21.08 10.09  y  p   e   h 1.25  f   f    0   f   g  00260    0   -\n",
       "686  a  22.67  0.75  u  g   c   v 2.00  f   t    2   t   g  00200  394   -\n",
       "687  a  25.25 13.50  y  p  ff  ff 2.00  f   t    1   t   g  00200    1   -\n",
       "688  b  17.92  0.20  u  g  aa   v 0.04  f   f    0   f   g  00280  750   -\n",
       "689  b  35.00  3.38  u  g   c   h 8.29  f   f    0   t   g  00000    0   -\n",
       "\n",
       "[653 rows x 16 columns]"
      ],
      "text/html": "<div>\n<style scoped>\n    .dataframe tbody tr th:only-of-type {\n        vertical-align: middle;\n    }\n\n    .dataframe tbody tr th {\n        vertical-align: top;\n    }\n\n    .dataframe thead th {\n        text-align: right;\n    }\n</style>\n<table border=\"1\" class=\"dataframe\">\n  <thead>\n    <tr style=\"text-align: right;\">\n      <th></th>\n      <th>A1</th>\n      <th>A2</th>\n      <th>A3</th>\n      <th>A4</th>\n      <th>A5</th>\n      <th>A6</th>\n      <th>A7</th>\n      <th>A8</th>\n      <th>A9</th>\n      <th>A10</th>\n      <th>A11</th>\n      <th>A12</th>\n      <th>A13</th>\n      <th>A14</th>\n      <th>A15</th>\n      <th>A16</th>\n    </tr>\n  </thead>\n  <tbody>\n    <tr>\n      <th>0</th>\n      <td>b</td>\n      <td>30.83</td>\n      <td>0.00</td>\n      <td>u</td>\n      <td>g</td>\n      <td>w</td>\n      <td>v</td>\n      <td>1.25</td>\n      <td>t</td>\n      <td>t</td>\n      <td>1</td>\n      <td>f</td>\n      <td>g</td>\n      <td>00202</td>\n      <td>0</td>\n      <td>+</td>\n    </tr>\n    <tr>\n      <th>1</th>\n      <td>a</td>\n      <td>58.67</td>\n      <td>4.46</td>\n      <td>u</td>\n      <td>g</td>\n      <td>q</td>\n      <td>h</td>\n      <td>3.04</td>\n      <td>t</td>\n      <td>t</td>\n      <td>6</td>\n      <td>f</td>\n      <td>g</td>\n      <td>00043</td>\n      <td>560</td>\n      <td>+</td>\n    </tr>\n    <tr>\n      <th>2</th>\n      <td>a</td>\n      <td>24.50</td>\n      <td>0.50</td>\n      <td>u</td>\n      <td>g</td>\n      <td>q</td>\n      <td>h</td>\n      <td>1.50</td>\n      <td>t</td>\n      <td>f</td>\n      <td>0</td>\n      <td>f</td>\n      <td>g</td>\n      <td>00280</td>\n      <td>824</td>\n      <td>+</td>\n    </tr>\n    <tr>\n      <th>3</th>\n      <td>b</td>\n      <td>27.83</td>\n      <td>1.54</td>\n      <td>u</td>\n      <td>g</td>\n      <td>w</td>\n      <td>v</td>\n      <td>3.75</td>\n      <td>t</td>\n      <td>t</td>\n      <td>5</td>\n      <td>t</td>\n      <td>g</td>\n      <td>00100</td>\n      <td>3</td>\n      <td>+</td>\n    </tr>\n    <tr>\n      <th>4</th>\n      <td>b</td>\n      <td>20.17</td>\n      <td>5.62</td>\n      <td>u</td>\n      <td>g</td>\n      <td>w</td>\n      <td>v</td>\n      <td>1.71</td>\n      <td>t</td>\n      <td>f</td>\n      <td>0</td>\n      <td>f</td>\n      <td>s</td>\n      <td>00120</td>\n      <td>0</td>\n      <td>+</td>\n    </tr>\n    <tr>\n      <th>...</th>\n      <td>...</td>\n      <td>...</td>\n      <td>...</td>\n      <td>...</td>\n      <td>...</td>\n      <td>...</td>\n      <td>...</td>\n      <td>...</td>\n      <td>...</td>\n      <td>...</td>\n      <td>...</td>\n      <td>...</td>\n      <td>...</td>\n      <td>...</td>\n      <td>...</td>\n      <td>...</td>\n    </tr>\n    <tr>\n      <th>685</th>\n      <td>b</td>\n      <td>21.08</td>\n      <td>10.09</td>\n      <td>y</td>\n      <td>p</td>\n      <td>e</td>\n      <td>h</td>\n      <td>1.25</td>\n      <td>f</td>\n      <td>f</td>\n      <td>0</td>\n      <td>f</td>\n      <td>g</td>\n      <td>00260</td>\n      <td>0</td>\n      <td>-</td>\n    </tr>\n    <tr>\n      <th>686</th>\n      <td>a</td>\n      <td>22.67</td>\n      <td>0.75</td>\n      <td>u</td>\n      <td>g</td>\n      <td>c</td>\n      <td>v</td>\n      <td>2.00</td>\n      <td>f</td>\n      <td>t</td>\n      <td>2</td>\n      <td>t</td>\n      <td>g</td>\n      <td>00200</td>\n      <td>394</td>\n      <td>-</td>\n    </tr>\n    <tr>\n      <th>687</th>\n      <td>a</td>\n      <td>25.25</td>\n      <td>13.50</td>\n      <td>y</td>\n      <td>p</td>\n      <td>ff</td>\n      <td>ff</td>\n      <td>2.00</td>\n      <td>f</td>\n      <td>t</td>\n      <td>1</td>\n      <td>t</td>\n      <td>g</td>\n      <td>00200</td>\n      <td>1</td>\n      <td>-</td>\n    </tr>\n    <tr>\n      <th>688</th>\n      <td>b</td>\n      <td>17.92</td>\n      <td>0.20</td>\n      <td>u</td>\n      <td>g</td>\n      <td>aa</td>\n      <td>v</td>\n      <td>0.04</td>\n      <td>f</td>\n      <td>f</td>\n      <td>0</td>\n      <td>f</td>\n      <td>g</td>\n      <td>00280</td>\n      <td>750</td>\n      <td>-</td>\n    </tr>\n    <tr>\n      <th>689</th>\n      <td>b</td>\n      <td>35.00</td>\n      <td>3.38</td>\n      <td>u</td>\n      <td>g</td>\n      <td>c</td>\n      <td>h</td>\n      <td>8.29</td>\n      <td>f</td>\n      <td>f</td>\n      <td>0</td>\n      <td>t</td>\n      <td>g</td>\n      <td>00000</td>\n      <td>0</td>\n      <td>-</td>\n    </tr>\n  </tbody>\n</table>\n<p>653 rows × 16 columns</p>\n</div>"
     },
     "metadata": {},
     "execution_count": 146
    }
   ],
   "source": [
    "# Konwersja .data --> .csv do typu Data Frame\n",
    "data = pd.read_csv('crx.data', header = None, sep = ',')\n",
    "data = setProperColumnNames(data)\n",
    "\n",
    "# Porzucenie wierszy z podziurawionymi danymi\n",
    "data = data.dropna()\n",
    "for column in data.columns:\n",
    "    data = data[data[column] != '?']\n",
    "\n",
    "data"
   ]
  },
  {
   "source": [
    "Aby otrzymać wiarygodne wyniki podczas pracy nad danymi musimy je ustandaryzować, a do tego musieliśmy je odpowiednio zakodować. Zamieniliśmy znaki i łańcuchy znaków w danych na wartości liczbowe. Następnie ustandaryzowaliśmy nasze dane, aby nie zatruć klasyfikatora przez duże różnice w zakresach przyjmowanych wartości poszczególnych atrybutów:"
   ],
   "cell_type": "markdown",
   "metadata": {}
  },
  {
   "cell_type": "code",
   "execution_count": 147,
   "metadata": {},
   "outputs": [
    {
     "output_type": "execute_result",
     "data": {
      "text/plain": [
       "     A1     A2    A3  A4  A5  A6  A7   A8  A9  A10  A11  A12  A13    A14  A15  \\\n",
       "0     1  30.83  0.00   1   0  12   7 1.25   1    1    1    0    0  00202    0   \n",
       "1     0  58.67  4.46   1   0  10   3 3.04   1    1    6    0    0  00043  560   \n",
       "2     0  24.50  0.50   1   0  10   3 1.50   1    0    0    0    0  00280  824   \n",
       "3     1  27.83  1.54   1   0  12   7 3.75   1    1    5    1    0  00100    3   \n",
       "4     1  20.17  5.62   1   0  12   7 1.71   1    0    0    0    2  00120    0   \n",
       "..   ..    ...   ...  ..  ..  ..  ..  ...  ..  ...  ...  ...  ...    ...  ...   \n",
       "685   1  21.08 10.09   2   2   4   3 1.25   0    0    0    0    0  00260    0   \n",
       "686   0  22.67  0.75   1   0   1   7 2.00   0    1    2    1    0  00200  394   \n",
       "687   0  25.25 13.50   2   2   5   2 2.00   0    1    1    1    0  00200    1   \n",
       "688   1  17.92  0.20   1   0   0   7 0.04   0    0    0    0    0  00280  750   \n",
       "689   1  35.00  3.38   1   0   1   3 8.29   0    0    0    1    0  00000    0   \n",
       "\n",
       "     A16  \n",
       "0      0  \n",
       "1      0  \n",
       "2      0  \n",
       "3      0  \n",
       "4      0  \n",
       "..   ...  \n",
       "685    1  \n",
       "686    1  \n",
       "687    1  \n",
       "688    1  \n",
       "689    1  \n",
       "\n",
       "[653 rows x 16 columns]"
      ],
      "text/html": "<div>\n<style scoped>\n    .dataframe tbody tr th:only-of-type {\n        vertical-align: middle;\n    }\n\n    .dataframe tbody tr th {\n        vertical-align: top;\n    }\n\n    .dataframe thead th {\n        text-align: right;\n    }\n</style>\n<table border=\"1\" class=\"dataframe\">\n  <thead>\n    <tr style=\"text-align: right;\">\n      <th></th>\n      <th>A1</th>\n      <th>A2</th>\n      <th>A3</th>\n      <th>A4</th>\n      <th>A5</th>\n      <th>A6</th>\n      <th>A7</th>\n      <th>A8</th>\n      <th>A9</th>\n      <th>A10</th>\n      <th>A11</th>\n      <th>A12</th>\n      <th>A13</th>\n      <th>A14</th>\n      <th>A15</th>\n      <th>A16</th>\n    </tr>\n  </thead>\n  <tbody>\n    <tr>\n      <th>0</th>\n      <td>1</td>\n      <td>30.83</td>\n      <td>0.00</td>\n      <td>1</td>\n      <td>0</td>\n      <td>12</td>\n      <td>7</td>\n      <td>1.25</td>\n      <td>1</td>\n      <td>1</td>\n      <td>1</td>\n      <td>0</td>\n      <td>0</td>\n      <td>00202</td>\n      <td>0</td>\n      <td>0</td>\n    </tr>\n    <tr>\n      <th>1</th>\n      <td>0</td>\n      <td>58.67</td>\n      <td>4.46</td>\n      <td>1</td>\n      <td>0</td>\n      <td>10</td>\n      <td>3</td>\n      <td>3.04</td>\n      <td>1</td>\n      <td>1</td>\n      <td>6</td>\n      <td>0</td>\n      <td>0</td>\n      <td>00043</td>\n      <td>560</td>\n      <td>0</td>\n    </tr>\n    <tr>\n      <th>2</th>\n      <td>0</td>\n      <td>24.50</td>\n      <td>0.50</td>\n      <td>1</td>\n      <td>0</td>\n      <td>10</td>\n      <td>3</td>\n      <td>1.50</td>\n      <td>1</td>\n      <td>0</td>\n      <td>0</td>\n      <td>0</td>\n      <td>0</td>\n      <td>00280</td>\n      <td>824</td>\n      <td>0</td>\n    </tr>\n    <tr>\n      <th>3</th>\n      <td>1</td>\n      <td>27.83</td>\n      <td>1.54</td>\n      <td>1</td>\n      <td>0</td>\n      <td>12</td>\n      <td>7</td>\n      <td>3.75</td>\n      <td>1</td>\n      <td>1</td>\n      <td>5</td>\n      <td>1</td>\n      <td>0</td>\n      <td>00100</td>\n      <td>3</td>\n      <td>0</td>\n    </tr>\n    <tr>\n      <th>4</th>\n      <td>1</td>\n      <td>20.17</td>\n      <td>5.62</td>\n      <td>1</td>\n      <td>0</td>\n      <td>12</td>\n      <td>7</td>\n      <td>1.71</td>\n      <td>1</td>\n      <td>0</td>\n      <td>0</td>\n      <td>0</td>\n      <td>2</td>\n      <td>00120</td>\n      <td>0</td>\n      <td>0</td>\n    </tr>\n    <tr>\n      <th>...</th>\n      <td>...</td>\n      <td>...</td>\n      <td>...</td>\n      <td>...</td>\n      <td>...</td>\n      <td>...</td>\n      <td>...</td>\n      <td>...</td>\n      <td>...</td>\n      <td>...</td>\n      <td>...</td>\n      <td>...</td>\n      <td>...</td>\n      <td>...</td>\n      <td>...</td>\n      <td>...</td>\n    </tr>\n    <tr>\n      <th>685</th>\n      <td>1</td>\n      <td>21.08</td>\n      <td>10.09</td>\n      <td>2</td>\n      <td>2</td>\n      <td>4</td>\n      <td>3</td>\n      <td>1.25</td>\n      <td>0</td>\n      <td>0</td>\n      <td>0</td>\n      <td>0</td>\n      <td>0</td>\n      <td>00260</td>\n      <td>0</td>\n      <td>1</td>\n    </tr>\n    <tr>\n      <th>686</th>\n      <td>0</td>\n      <td>22.67</td>\n      <td>0.75</td>\n      <td>1</td>\n      <td>0</td>\n      <td>1</td>\n      <td>7</td>\n      <td>2.00</td>\n      <td>0</td>\n      <td>1</td>\n      <td>2</td>\n      <td>1</td>\n      <td>0</td>\n      <td>00200</td>\n      <td>394</td>\n      <td>1</td>\n    </tr>\n    <tr>\n      <th>687</th>\n      <td>0</td>\n      <td>25.25</td>\n      <td>13.50</td>\n      <td>2</td>\n      <td>2</td>\n      <td>5</td>\n      <td>2</td>\n      <td>2.00</td>\n      <td>0</td>\n      <td>1</td>\n      <td>1</td>\n      <td>1</td>\n      <td>0</td>\n      <td>00200</td>\n      <td>1</td>\n      <td>1</td>\n    </tr>\n    <tr>\n      <th>688</th>\n      <td>1</td>\n      <td>17.92</td>\n      <td>0.20</td>\n      <td>1</td>\n      <td>0</td>\n      <td>0</td>\n      <td>7</td>\n      <td>0.04</td>\n      <td>0</td>\n      <td>0</td>\n      <td>0</td>\n      <td>0</td>\n      <td>0</td>\n      <td>00280</td>\n      <td>750</td>\n      <td>1</td>\n    </tr>\n    <tr>\n      <th>689</th>\n      <td>1</td>\n      <td>35.00</td>\n      <td>3.38</td>\n      <td>1</td>\n      <td>0</td>\n      <td>1</td>\n      <td>3</td>\n      <td>8.29</td>\n      <td>0</td>\n      <td>0</td>\n      <td>0</td>\n      <td>1</td>\n      <td>0</td>\n      <td>00000</td>\n      <td>0</td>\n      <td>1</td>\n    </tr>\n  </tbody>\n</table>\n<p>653 rows × 16 columns</p>\n</div>"
     },
     "metadata": {},
     "execution_count": 147
    }
   ],
   "source": [
    "# Zakodowanie danych\n",
    "columnsToEncodeIndexes = [1, 4, 5, 6, 7, 9, 10, 12, 13, 16]\n",
    "for index in columnsToEncodeIndexes:\n",
    "    data['A' + str(index)] = data['A' + str(index)].astype('category').cat.codes\n",
    "\n",
    "data"
   ]
  },
  {
   "cell_type": "code",
   "execution_count": 148,
   "metadata": {},
   "outputs": [
    {
     "output_type": "execute_result",
     "data": {
      "text/plain": [
       "       A1    A2    A3    A4    A5    A6    A7    A8    A9   A10   A11   A12  \\\n",
       "0    0.67 -0.06 -0.96 -0.54 -0.55  1.45  0.77 -0.30  0.93  1.13 -0.30 -0.93   \n",
       "1   -1.49  2.30 -0.07 -0.54 -0.55  0.98 -0.84  0.24  0.93  1.13  0.70 -0.93   \n",
       "2   -1.49 -0.59 -0.86 -0.54 -0.55  0.98 -0.84 -0.22  0.93 -0.89 -0.50 -0.93   \n",
       "3    0.67 -0.31 -0.65 -0.54 -0.55  1.45  0.77  0.45  0.93  1.13  0.50  1.08   \n",
       "4    0.67 -0.96  0.16 -0.54 -0.55  1.45  0.77 -0.16  0.93 -0.89 -0.50 -0.93   \n",
       "..    ...   ...   ...   ...   ...   ...   ...   ...   ...   ...   ...   ...   \n",
       "648  0.67 -0.88  1.05  1.80  1.81 -0.41 -0.84 -0.30 -1.07 -0.89 -0.50 -0.93   \n",
       "649 -1.49 -0.75 -0.81 -0.54 -0.55 -1.11  0.77 -0.07 -1.07  1.13 -0.10  1.08   \n",
       "650 -1.49 -0.53  1.73  1.80  1.81 -0.18 -1.24 -0.07 -1.07  1.13 -0.30  1.08   \n",
       "651  0.67 -1.15 -0.92 -0.54 -0.55 -1.34  0.77 -0.65 -1.07 -0.89 -0.50 -0.93   \n",
       "652  0.67  0.30 -0.29 -0.54 -0.55 -1.11 -0.84  1.79 -1.07 -0.89 -0.50  1.08   \n",
       "\n",
       "      A13   A14   A15   A16  \n",
       "0   -0.30  0.13 -0.19 -1.10  \n",
       "1   -0.30 -0.82 -0.09 -1.10  \n",
       "2   -0.30  0.59 -0.04 -1.10  \n",
       "3   -0.30 -0.48 -0.19 -1.10  \n",
       "4    3.35 -0.36 -0.19 -1.10  \n",
       "..    ...   ...   ...   ...  \n",
       "648 -0.30  0.47 -0.19  0.91  \n",
       "649 -0.30  0.12 -0.12  0.91  \n",
       "650 -0.30  0.12 -0.19  0.91  \n",
       "651 -0.30  0.59 -0.05  0.91  \n",
       "652 -0.30 -1.07 -0.19  0.91  \n",
       "\n",
       "[653 rows x 16 columns]"
      ],
      "text/html": "<div>\n<style scoped>\n    .dataframe tbody tr th:only-of-type {\n        vertical-align: middle;\n    }\n\n    .dataframe tbody tr th {\n        vertical-align: top;\n    }\n\n    .dataframe thead th {\n        text-align: right;\n    }\n</style>\n<table border=\"1\" class=\"dataframe\">\n  <thead>\n    <tr style=\"text-align: right;\">\n      <th></th>\n      <th>A1</th>\n      <th>A2</th>\n      <th>A3</th>\n      <th>A4</th>\n      <th>A5</th>\n      <th>A6</th>\n      <th>A7</th>\n      <th>A8</th>\n      <th>A9</th>\n      <th>A10</th>\n      <th>A11</th>\n      <th>A12</th>\n      <th>A13</th>\n      <th>A14</th>\n      <th>A15</th>\n      <th>A16</th>\n    </tr>\n  </thead>\n  <tbody>\n    <tr>\n      <th>0</th>\n      <td>0.67</td>\n      <td>-0.06</td>\n      <td>-0.96</td>\n      <td>-0.54</td>\n      <td>-0.55</td>\n      <td>1.45</td>\n      <td>0.77</td>\n      <td>-0.30</td>\n      <td>0.93</td>\n      <td>1.13</td>\n      <td>-0.30</td>\n      <td>-0.93</td>\n      <td>-0.30</td>\n      <td>0.13</td>\n      <td>-0.19</td>\n      <td>-1.10</td>\n    </tr>\n    <tr>\n      <th>1</th>\n      <td>-1.49</td>\n      <td>2.30</td>\n      <td>-0.07</td>\n      <td>-0.54</td>\n      <td>-0.55</td>\n      <td>0.98</td>\n      <td>-0.84</td>\n      <td>0.24</td>\n      <td>0.93</td>\n      <td>1.13</td>\n      <td>0.70</td>\n      <td>-0.93</td>\n      <td>-0.30</td>\n      <td>-0.82</td>\n      <td>-0.09</td>\n      <td>-1.10</td>\n    </tr>\n    <tr>\n      <th>2</th>\n      <td>-1.49</td>\n      <td>-0.59</td>\n      <td>-0.86</td>\n      <td>-0.54</td>\n      <td>-0.55</td>\n      <td>0.98</td>\n      <td>-0.84</td>\n      <td>-0.22</td>\n      <td>0.93</td>\n      <td>-0.89</td>\n      <td>-0.50</td>\n      <td>-0.93</td>\n      <td>-0.30</td>\n      <td>0.59</td>\n      <td>-0.04</td>\n      <td>-1.10</td>\n    </tr>\n    <tr>\n      <th>3</th>\n      <td>0.67</td>\n      <td>-0.31</td>\n      <td>-0.65</td>\n      <td>-0.54</td>\n      <td>-0.55</td>\n      <td>1.45</td>\n      <td>0.77</td>\n      <td>0.45</td>\n      <td>0.93</td>\n      <td>1.13</td>\n      <td>0.50</td>\n      <td>1.08</td>\n      <td>-0.30</td>\n      <td>-0.48</td>\n      <td>-0.19</td>\n      <td>-1.10</td>\n    </tr>\n    <tr>\n      <th>4</th>\n      <td>0.67</td>\n      <td>-0.96</td>\n      <td>0.16</td>\n      <td>-0.54</td>\n      <td>-0.55</td>\n      <td>1.45</td>\n      <td>0.77</td>\n      <td>-0.16</td>\n      <td>0.93</td>\n      <td>-0.89</td>\n      <td>-0.50</td>\n      <td>-0.93</td>\n      <td>3.35</td>\n      <td>-0.36</td>\n      <td>-0.19</td>\n      <td>-1.10</td>\n    </tr>\n    <tr>\n      <th>...</th>\n      <td>...</td>\n      <td>...</td>\n      <td>...</td>\n      <td>...</td>\n      <td>...</td>\n      <td>...</td>\n      <td>...</td>\n      <td>...</td>\n      <td>...</td>\n      <td>...</td>\n      <td>...</td>\n      <td>...</td>\n      <td>...</td>\n      <td>...</td>\n      <td>...</td>\n      <td>...</td>\n    </tr>\n    <tr>\n      <th>648</th>\n      <td>0.67</td>\n      <td>-0.88</td>\n      <td>1.05</td>\n      <td>1.80</td>\n      <td>1.81</td>\n      <td>-0.41</td>\n      <td>-0.84</td>\n      <td>-0.30</td>\n      <td>-1.07</td>\n      <td>-0.89</td>\n      <td>-0.50</td>\n      <td>-0.93</td>\n      <td>-0.30</td>\n      <td>0.47</td>\n      <td>-0.19</td>\n      <td>0.91</td>\n    </tr>\n    <tr>\n      <th>649</th>\n      <td>-1.49</td>\n      <td>-0.75</td>\n      <td>-0.81</td>\n      <td>-0.54</td>\n      <td>-0.55</td>\n      <td>-1.11</td>\n      <td>0.77</td>\n      <td>-0.07</td>\n      <td>-1.07</td>\n      <td>1.13</td>\n      <td>-0.10</td>\n      <td>1.08</td>\n      <td>-0.30</td>\n      <td>0.12</td>\n      <td>-0.12</td>\n      <td>0.91</td>\n    </tr>\n    <tr>\n      <th>650</th>\n      <td>-1.49</td>\n      <td>-0.53</td>\n      <td>1.73</td>\n      <td>1.80</td>\n      <td>1.81</td>\n      <td>-0.18</td>\n      <td>-1.24</td>\n      <td>-0.07</td>\n      <td>-1.07</td>\n      <td>1.13</td>\n      <td>-0.30</td>\n      <td>1.08</td>\n      <td>-0.30</td>\n      <td>0.12</td>\n      <td>-0.19</td>\n      <td>0.91</td>\n    </tr>\n    <tr>\n      <th>651</th>\n      <td>0.67</td>\n      <td>-1.15</td>\n      <td>-0.92</td>\n      <td>-0.54</td>\n      <td>-0.55</td>\n      <td>-1.34</td>\n      <td>0.77</td>\n      <td>-0.65</td>\n      <td>-1.07</td>\n      <td>-0.89</td>\n      <td>-0.50</td>\n      <td>-0.93</td>\n      <td>-0.30</td>\n      <td>0.59</td>\n      <td>-0.05</td>\n      <td>0.91</td>\n    </tr>\n    <tr>\n      <th>652</th>\n      <td>0.67</td>\n      <td>0.30</td>\n      <td>-0.29</td>\n      <td>-0.54</td>\n      <td>-0.55</td>\n      <td>-1.11</td>\n      <td>-0.84</td>\n      <td>1.79</td>\n      <td>-1.07</td>\n      <td>-0.89</td>\n      <td>-0.50</td>\n      <td>1.08</td>\n      <td>-0.30</td>\n      <td>-1.07</td>\n      <td>-0.19</td>\n      <td>0.91</td>\n    </tr>\n  </tbody>\n</table>\n<p>653 rows × 16 columns</p>\n</div>"
     },
     "metadata": {},
     "execution_count": 148
    }
   ],
   "source": [
    "dataBeforeStand = data\n",
    "\n",
    "# Standaryzacja danych\n",
    "sc = StandardScaler()\n",
    "\n",
    "data = sc.fit_transform(data)\n",
    "data = pd.DataFrame(data)  \n",
    "data = setProperColumnNames(data)\n",
    "\n",
    "data"
   ]
  },
  {
   "source": [
    "# 3. Funkcja utworzenia zbioru uczącego i testowego."
   ],
   "cell_type": "markdown",
   "metadata": {}
  },
  {
   "source": [
    "Za pomocą tej funkcji podzielimy otrzymany zbiór danych wniosków kredytowych na zbiór testowy oraz uczący tak, aby zbiór uczący był dwa razy większy od testowego. Dzięki takiej proporcji otrzymamy najbardziej wiarygodny wynik wydajności budowanego klasyfikatora:"
   ],
   "cell_type": "markdown",
   "metadata": {}
  },
  {
   "cell_type": "code",
   "execution_count": 149,
   "metadata": {},
   "outputs": [],
   "source": [
    "# Podział na zbiór testowy/uczący po atrybutach opisowych/decyzyjnych:\n",
    "\n",
    "def divideData(data, proportion = 0.33):\n",
    "    descriptiveSetToTeach, descriptiveSetToTest, decisiveSetToTeach, decisiveSetToTest = train_test_split(\n",
    "        data.iloc[:,0:-1], \n",
    "        data.iloc[:,-1].astype('category').cat.codes, \n",
    "        test_size = proportion\n",
    "    )\n",
    "\n",
    "    dividedData = {\n",
    "        'descriptiveSetToTeach' : descriptiveSetToTeach, \n",
    "        'descriptiveSetToTest' : descriptiveSetToTest, \n",
    "        'decisiveSetToTeach' : decisiveSetToTeach, \n",
    "        'decisiveSetToTest' : decisiveSetToTest\n",
    "    }\n",
    "\n",
    "    return dividedData\n"
   ]
  },
  {
   "source": [
    "# 4. Próbna budowa klasyfikatora i klasyfikacja."
   ],
   "cell_type": "markdown",
   "metadata": {}
  },
  {
   "source": [
    "W ramach naszego klasyfikatora przetestowaliśmy poniższe:\n",
    "* K Nearest Neighbors\n",
    "* Nearest Centroid\n",
    "* Gaussian Naive Bayes\n",
    "* Random Forest Classifier \n",
    "\n",
    "Klasyfikator k najbliższych sąsiadów okazał się najskuteczniejszy, ponieważ:\n",
    "* Osiągał największy wynik procentowy poprawnie zklasyfikowanych wnioskow kredytowych\n",
    "* Z innych klasyfikatorów o podobnych wynikach (Najbliższego Centroidu) w przeciągu kilkunastu uruchomień wynik procentowy poprawnie zklasyfikowanych wniosków kredytowych wahał się najmniej\n",
    "\n",
    "Dla wybranego klasyfikatora zastanowiliśmy się nad najlepszymi możliwymi jego parametrami. \n",
    "* Sprawdziliśmy kolejne nieparzyste wartości k = 3, 5, 7, 9, 11. Najlepszym i najbardziej stabilnym wynikiem (na tle kilkunastu wywołań) cieszyło się k = 5.  \n",
    "* Po próbach testów kolejno przyjętych metryk odległości (euklidesowa, manhattan, chevyshev, minkowski etc.) najlepszą okazała się 'minkowski'. \n",
    "* Podobnie postąpiliśmy z algorytmami - najlepsze (na podobnym poziomie) okazały się algorytmy 'ball_tree' oraz 'brute', więc na podstawie złożoności czasowej wybraliśmy 'ball_tree' jako ten bardziej optymalny."
   ],
   "cell_type": "markdown",
   "metadata": {}
  },
  {
   "cell_type": "code",
   "execution_count": 150,
   "metadata": {},
   "outputs": [
    {
     "output_type": "execute_result",
     "data": {
      "text/plain": [
       "KNeighborsClassifier(algorithm='ball_tree')"
      ]
     },
     "metadata": {},
     "execution_count": 150
    }
   ],
   "source": [
    "# Zbudowanie klasyfikatora\n",
    "classifier = KNeighborsClassifier(\n",
    "    n_neighbors = 5, \n",
    "    algorithm = 'ball_tree', \n",
    "    metric = 'minkowski'\n",
    ")\n",
    "\n",
    "classifier.fit(\n",
    "    dividedData['descriptiveSetToTeach'], \n",
    "    dividedData['decisiveSetToTeach']\n",
    ")\n"
   ]
  },
  {
   "source": [
    "Po zbudowaniu klasyfikatora wykonujemy klasyfikację próbną, a następnie wyświetlamy jej wynik w postaci macierzy błędów oraz procentu poprawnie zaklasyfikowanych wektorów. Na podstawie tego będziemy w stanie ocenić skuteczność zbudowanego przez nas klasyfikatora."
   ],
   "cell_type": "markdown",
   "metadata": {}
  },
  {
   "cell_type": "code",
   "execution_count": 151,
   "metadata": {},
   "outputs": [],
   "source": [
    "# Wykonanie testu klasyfikacji\n",
    "descriptiveAttributes = range(0, data.columns.size - 1)\n",
    "averageResult = testClassifier(classifier, descriptiveAttributes, data)\n"
   ]
  },
  {
   "cell_type": "code",
   "execution_count": 152,
   "metadata": {},
   "outputs": [
    {
     "output_type": "stream",
     "name": "stdout",
     "text": [
      "Average accuracy for all atributes:  0.8736111111111112\n"
     ]
    }
   ],
   "source": [
    "# Wyświetlenie wyniku pracy klasyfikatora\n",
    "print('Average accuracy for all atributes: ', averageResult)\n"
   ]
  },
  {
   "source": [
    "Skuteczność na poziomie 85% wydaje się być poprawna, ale w tak wrażliwym obszarze jakim jest bankowość jest zdecydowanie zbyt niska. Aby podnieść skuteczność klasyfikacji danych przeprowadzimy analizę eksploracyjną, która wyłoni czy poszczególne pojedyncze atrybuty są w stanie wskazać wynik klasyfikacji bardziej niż pozostałe."
   ],
   "cell_type": "markdown",
   "metadata": {}
  },
  {
   "source": [
    "# 5. Analiza eksploracyjna danych."
   ],
   "cell_type": "markdown",
   "metadata": {}
  },
  {
   "source": [
    "Histogramy dla poszczególnych atrybutów:"
   ],
   "cell_type": "markdown",
   "metadata": {}
  },
  {
   "cell_type": "code",
   "execution_count": 154,
   "metadata": {},
   "outputs": [
    {
     "output_type": "error",
     "ename": "TypeError",
     "evalue": "must be real number, not str",
     "traceback": [
      "\u001b[1;31m---------------------------------------------------------------------------\u001b[0m",
      "\u001b[1;31mTypeError\u001b[0m                                 Traceback (most recent call last)",
      "\u001b[1;32m<ipython-input-154-84afd4bb2950>\u001b[0m in \u001b[0;36m<module>\u001b[1;34m\u001b[0m\n\u001b[0;32m     10\u001b[0m \u001b[1;32mfor\u001b[0m \u001b[0max\u001b[0m\u001b[1;33m,\u001b[0m\u001b[0mcnt\u001b[0m \u001b[1;32min\u001b[0m \u001b[0mzip\u001b[0m\u001b[1;33m(\u001b[0m\u001b[0maxes\u001b[0m\u001b[1;33m.\u001b[0m\u001b[0mravel\u001b[0m\u001b[1;33m(\u001b[0m\u001b[1;33m)\u001b[0m\u001b[1;33m,\u001b[0m \u001b[0mrange\u001b[0m\u001b[1;33m(\u001b[0m\u001b[1;36m15\u001b[0m\u001b[1;33m)\u001b[0m\u001b[1;33m)\u001b[0m\u001b[1;33m:\u001b[0m\u001b[1;33m\u001b[0m\u001b[1;33m\u001b[0m\u001b[0m\n\u001b[0;32m     11\u001b[0m \u001b[1;33m\u001b[0m\u001b[0m\n\u001b[1;32m---> 12\u001b[1;33m     \u001b[0mmin_b\u001b[0m \u001b[1;33m=\u001b[0m \u001b[0mmath\u001b[0m\u001b[1;33m.\u001b[0m\u001b[0mfloor\u001b[0m\u001b[1;33m(\u001b[0m\u001b[0mnp\u001b[0m\u001b[1;33m.\u001b[0m\u001b[0mmin\u001b[0m\u001b[1;33m(\u001b[0m\u001b[0mdataBeforeStand\u001b[0m\u001b[1;33m.\u001b[0m\u001b[0miloc\u001b[0m\u001b[1;33m[\u001b[0m\u001b[1;33m:\u001b[0m\u001b[1;33m,\u001b[0m \u001b[1;33m:\u001b[0m\u001b[1;33m-\u001b[0m\u001b[1;36m1\u001b[0m\u001b[1;33m]\u001b[0m\u001b[1;33m.\u001b[0m\u001b[0mvalues\u001b[0m\u001b[1;33m[\u001b[0m\u001b[1;33m:\u001b[0m\u001b[1;33m,\u001b[0m\u001b[0mcnt\u001b[0m\u001b[1;33m]\u001b[0m\u001b[1;33m)\u001b[0m\u001b[1;33m)\u001b[0m\u001b[1;33m\u001b[0m\u001b[1;33m\u001b[0m\u001b[0m\n\u001b[0m\u001b[0;32m     13\u001b[0m     \u001b[0mmax_b\u001b[0m \u001b[1;33m=\u001b[0m \u001b[0mmath\u001b[0m\u001b[1;33m.\u001b[0m\u001b[0mceil\u001b[0m\u001b[1;33m(\u001b[0m\u001b[0mnp\u001b[0m\u001b[1;33m.\u001b[0m\u001b[0mmax\u001b[0m\u001b[1;33m(\u001b[0m\u001b[0mdataBeforeStand\u001b[0m\u001b[1;33m.\u001b[0m\u001b[0miloc\u001b[0m\u001b[1;33m[\u001b[0m\u001b[1;33m:\u001b[0m\u001b[1;33m,\u001b[0m \u001b[1;33m:\u001b[0m\u001b[1;33m-\u001b[0m\u001b[1;36m1\u001b[0m\u001b[1;33m]\u001b[0m\u001b[1;33m.\u001b[0m\u001b[0mvalues\u001b[0m\u001b[1;33m[\u001b[0m\u001b[1;33m:\u001b[0m\u001b[1;33m,\u001b[0m\u001b[0mcnt\u001b[0m\u001b[1;33m]\u001b[0m\u001b[1;33m)\u001b[0m\u001b[1;33m)\u001b[0m\u001b[1;33m\u001b[0m\u001b[1;33m\u001b[0m\u001b[0m\n\u001b[0;32m     14\u001b[0m     \u001b[0mbins\u001b[0m \u001b[1;33m=\u001b[0m \u001b[0mnp\u001b[0m\u001b[1;33m.\u001b[0m\u001b[0mlinspace\u001b[0m\u001b[1;33m(\u001b[0m\u001b[0mmin_b\u001b[0m\u001b[1;33m,\u001b[0m \u001b[0mmax_b\u001b[0m\u001b[1;33m,\u001b[0m \u001b[1;36m25\u001b[0m\u001b[1;33m)\u001b[0m\u001b[1;33m\u001b[0m\u001b[1;33m\u001b[0m\u001b[0m\n",
      "\u001b[1;31mTypeError\u001b[0m: must be real number, not str"
     ]
    }
   ],
   "source": [
    "# Tworzenie histogramu na podstawie danych sprzed standaryzacji, ale po kodowaniu\n",
    "feature_dict = {i:label for i,label in zip(\n",
    "                range(15), dataBeforeStand.columns)}\n",
    "\n",
    "label_dict = {0: 'Przyjęty', 1: 'Odrzucony'}\n",
    "import math\n",
    "\n",
    "fig, axes = plt.subplots(nrows=8, ncols=2, figsize=(12,16))\n",
    "\n",
    "for ax,cnt in zip(axes.ravel(), range(15)):\n",
    "    \n",
    "    min_b = math.floor(np.min(dataBeforeStand.iloc[:, :-1].values[:,cnt]))\n",
    "    max_b = math.ceil(np.max(dataBeforeStand.iloc[:, :-1].values[:,cnt]))\n",
    "    bins = np.linspace(min_b, max_b, 25)\n",
    "\n",
    "    # Tworzenie kolorowego histogramu (kolor zielony - zatwierdzone, czerwony - odrzucone,\n",
    "    # brązowe - nakładające się wartości, tzn. zatwierdzone wnioski i odrzucone się na siebie nakładają)\n",
    "    for lab,col in zip(range(0,2), ('green', 'red')):\n",
    "        ax.hist(dataBeforeStand.iloc[:, :-1].values[dataBeforeStand.iloc[:, -1].values==lab, cnt],\n",
    "                   color=col,\n",
    "                   label='Wniosek %s' %label_dict[lab],\n",
    "                   bins=bins,\n",
    "                   alpha=0.5,)\n",
    "    ylims = ax.get_ylim()\n",
    "\n",
    "    # Adnotacje wykresu\n",
    "    leg = ax.legend(loc='upper right', fancybox=True, fontsize=8)\n",
    "    leg.get_frame().set_alpha(0.5)\n",
    "    ax.set_ylim([0, max(ylims)+2])\n",
    "    ax.set_xlabel(feature_dict[cnt])\n",
    "    ax.set_title('Atrybut A%s' %str(cnt+1))\n",
    "\n",
    "    \n",
    "fig.tight_layout()\n",
    "plt.show()\n"
   ]
  },
  {
   "source": [
    "Przeprowadźmy badanie korelacji poszczególnych atrybutów, z których być może uda się wyłonić atrybuty nadmiarowe:"
   ],
   "cell_type": "markdown",
   "metadata": {}
  },
  {
   "cell_type": "code",
   "execution_count": null,
   "metadata": {},
   "outputs": [],
   "source": [
    "# Budowa macierzy korelacji atrybutów\n",
    "dataCorr = data.corr()\n",
    "\n",
    "# Wyświetlenie macierzy korelacji\n",
    "plt.figure(figsize = (15,15), dpi = 100)\n",
    "sns.heatmap(dataCorr, annot = dataCorr)"
   ]
  },
  {
   "source": [
    "Z przeprowadzonej analizy macierzy korelacji pomiędzy atrybutami możemy wysunąć następujące wnioski:\n",
    "* Najbardziej silne skorelowane ze sobą pary atrybutów:\n",
    "    * {A4, A5}     -> 0.98\n",
    "    * {A9, A16}    -> - 0,74\n",
    "    * {A10, A11}   -> 0.57\n",
    "* Nie oznacza to wcale logicznego z punktu biznesowego powiązania pomiędzy tymi atrybutami w obie strony. Najczęściej to jeden atrybut z każdej pary definiuje drugi, ale drugi wcale nie definiuje pierwszego. Problem polega na prawidłowej ocenie, którego nadmiarowego atrybutu możemy się pozbyć z procesu kwalifikacji. \n",
    "* Ponieważ tytuły atrybutów zostały zakodowanego w celu zachowania poufności ich prawdziwej tożsamości nie jesteśmy w stanie stwierdzić, który jest skutkiem którego. \n",
    "* Z racji bardzo wysokiej korelacji atrybutów A4 i A5 możemy w przybliżeniu założyć, że są tak bardzo zależne od siebie, że nie ma aż takiego znaczeni, który jest skutkiem którego. Oznacza to, że możemy pozbyć się jednego z nich bez potrzeby znajomości jego prawdziwej tożsamości. Decyzję podejmiemy na podstawie wartości korelacji obu atrybutów z pozostałymi atrybutami danych i pozbędziemy się tego, którego korelacje przyjmują największe wartości. \n",
    "    * Po zakończeniu analizy zakładamy, że będziemy mogli pozbyć się atrybutu **A4** i poprawi to wynik klasyfikacji.\n",
    "* Rzędy dla A16 mogą okazać się kluczowe dla naszej analizy. Atrybutem decyzyjny A16 jest silnie skorelowany z atrybutem A9, który przyjmuje wartości t/f. Dla 74% przypadków, jeżeli A9 przyjęło wartość 'true' wyniosek został przyjęty. \n",
    "    * Z racji tego **A9** jest bardzo ważnym atrybutem.\n"
   ],
   "cell_type": "markdown",
   "metadata": {}
  },
  {
   "source": [
    "Narysujmy teraz wykresy przedstawiające wynik klasyfikacji w zakresie przyjmowanych wartości poszczególnych atrybutów:"
   ],
   "cell_type": "markdown",
   "metadata": {}
  },
  {
   "cell_type": "code",
   "execution_count": null,
   "metadata": {},
   "outputs": [],
   "source": [
    "# Histograms for each of the columns\n",
    "\n",
    "plt.figure(figsize = (20, 15))\n",
    "for i in range(15):\n",
    "    plt.subplot(5, 3, i + 1)\n",
    "    j = str(1 + i)\n",
    "    sns.violinplot(x = 'A16', y = 'A' + j, data = data)"
   ]
  },
  {
   "source": [
    "Ważne atrybuty przy kwalifikacji:\n",
    "* A8\n",
    "* A9\n",
    "* A10\n",
    "\n",
    "Atrybuty o umiarkowanym znaczeniu przy klasyfikacji:\n",
    "* A3\n",
    "* A4\n",
    "* A6\n",
    "* A11\n",
    "* A14\n",
    "* A15\n",
    "\n",
    "Nieważne atrybuty przy kwalifikacji:\n",
    "* A1\n",
    "* A2\n",
    "* A5\n",
    "* A7\n",
    "* A12\n",
    "* A13"
   ],
   "cell_type": "markdown",
   "metadata": {}
  },
  {
   "cell_type": "code",
   "execution_count": null,
   "metadata": {},
   "outputs": [],
   "source": [
    "# Listę wypełniamy indeksami kolumn zaczynając od 0, czyli np. dla A6 indeks na liście będzie równy 5.\n",
    "relevantAttributes = [2, 3, 5, 7, 8, 9, 10, 14]\n",
    "\n",
    "# Budowa macierzy korelacji atrybutów\n",
    "dataCorr = data.iloc[:, relevantAttributes].corr()\n",
    "\n",
    "# Wyświetlenie macierzy korelacji\n",
    "plt.figure(figsize = (10,10), dpi = 100)\n",
    "sns.heatmap(dataCorr, annot = dataCorr)"
   ]
  },
  {
   "source": [
    "Wnioski:\n",
    "* A11 i A10 są silnie skorelowane ze sobą. Odrzucamy jeden atrybut nadmiarowy. Na podstawie analizy przydatności obu atrybutów odrzucamy A11 "
   ],
   "cell_type": "markdown",
   "metadata": {}
  },
  {
   "cell_type": "code",
   "execution_count": null,
   "metadata": {},
   "outputs": [],
   "source": [
    "relevantAttributes.remove(10)"
   ]
  },
  {
   "source": [
    "# 6. Ponowna budowa klasyfikatora i klasyfikacja na podstawie wniosków z analizy eksploracyjnej."
   ],
   "cell_type": "markdown",
   "metadata": {}
  },
  {
   "source": [
    "Uwzględniając wyłonione podczas analizy najważniejsze atrybuty zbudujemy ponownie klasyfikator na podstawie przyjętych atrybutów i od nowa przeprowadźmy klasyfikację zbioru testowego:"
   ],
   "cell_type": "markdown",
   "metadata": {}
  },
  {
   "cell_type": "code",
   "execution_count": null,
   "metadata": {},
   "outputs": [],
   "source": [
    "# Zbudowanie klasyfikatora\n",
    "relevantClassifier = KNeighborsClassifier(\n",
    "    n_neighbors = 5, \n",
    "    algorithm = 'ball_tree', \n",
    "    metric = 'minkowski'\n",
    ")\n",
    "\n",
    "relevantClassifier.fit(\n",
    "    dividedData['descriptiveSetToTeach'].iloc[:, relevantAttributes], \n",
    "    dividedData['decisiveSetToTeach']\n",
    ")\n"
   ]
  },
  {
   "source": [
    "Ponowne wykonanie klasyfikacji i wyświetlenie jej wyniku w postaci macierzy błędów oraz procentu poprawnie zaklasyfikowanych wektorów. Na podstawie tego będziemy w stanie ocenić skuteczność zbudowanego przez nas klasyfikatora i przeprowadzonej analizy eksploracyjnej:"
   ],
   "cell_type": "markdown",
   "metadata": {}
  },
  {
   "cell_type": "code",
   "execution_count": null,
   "metadata": {},
   "outputs": [],
   "source": [
    "# Wykonanie klasyfikacji\n",
    "averageResultForRelevant = testClassifier(relevantClassifier, relevantAttributes, data)\n"
   ]
  },
  {
   "cell_type": "code",
   "execution_count": null,
   "metadata": {},
   "outputs": [],
   "source": [
    "# Wyświetlenie wyniku pracy klasyfikatora\n",
    "print('Average accuracy for just relevant atributes: ', averageResult)"
   ]
  },
  {
   "source": [
    "OCENA WYNIKU KLASYFIKACJI"
   ],
   "cell_type": "markdown",
   "metadata": {}
  },
  {
   "source": [
    "# 7. Podsumowanie.\n",
    "\n",
    "Lorem ipsum dolor sit amet, consectetur adipiscing elit, sed do eiusmod tempor incididunt ut labore et dolore magna aliqua. Ut enim ad minim veniam, quis nostrud exercitation ullamco laboris nisi ut aliquip ex ea commodo consequat. Duis aute irure dolor in reprehenderit in voluptate velit esse cillum dolore eu fugiat nulla pariatur. Excepteur sint occaecat cupidatat non proident, sunt in culpa qui officia deserunt mollit anim id est laborum."
   ],
   "cell_type": "markdown",
   "metadata": {}
  }
 ],
 "metadata": {
  "anaconda-cloud": {},
  "kernelspec": {
   "display_name": "Python 3",
   "language": "python",
   "name": "python3"
  },
  "language_info": {
   "codemirror_mode": {
    "name": "ipython",
    "version": 3
   },
   "file_extension": ".py",
   "mimetype": "text/x-python",
   "name": "python",
   "nbconvert_exporter": "python",
   "pygments_lexer": "ipython3",
   "version": "3.8.3-final"
  }
 },
 "nbformat": 4,
 "nbformat_minor": 4
}